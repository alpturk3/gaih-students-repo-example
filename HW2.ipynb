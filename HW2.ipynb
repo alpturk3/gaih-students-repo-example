{
  "nbformat": 4,
  "nbformat_minor": 0,
  "metadata": {
    "colab": {
      "name": "HW2",
      "provenance": [],
      "authorship_tag": "ABX9TyMMXJ3thT1U+jftnAT84ewU",
      "include_colab_link": true
    },
    "kernelspec": {
      "name": "python3",
      "display_name": "Python 3"
    }
  },
  "cells": [
    {
      "cell_type": "markdown",
      "metadata": {
        "id": "view-in-github",
        "colab_type": "text"
      },
      "source": [
        "<a href=\"https://colab.research.google.com/github/alpturk3/gaih-students-repo-example/blob/main/HW2.ipynb\" target=\"_parent\"><img src=\"https://colab.research.google.com/assets/colab-badge.svg\" alt=\"Open In Colab\"/></a>"
      ]
    },
    {
      "cell_type": "code",
      "metadata": {
        "colab": {
          "base_uri": "https://localhost:8080/"
        },
        "id": "oW-P59L5h4eT",
        "outputId": "d0d1c6df-1c0b-4915-ecae-04e30043beb1"
      },
      "source": [
        "CV1 = {\"Name\": \"James\", \"Gender\": \"Male\", \"Age\": 32, \"Job\":\"Accountant\", \"Education Level\":\"University\"}\n",
        "CV2 = {\"Name\": \"Mary\", \"Gender\": \"Female\", \"Age\": 28,\"Job\":\"IT Manager\", \"Education Level\":\"University\"}\n",
        "CV3 = {\"Name\": \"Michael\", \"Gender\": \"Male\", \"Age\": 45,\"Job\":\"HR Manager\", \"Education Level\":\"University\"}\n",
        "CV4 = {\"Name\": \"Kate\", \"Gender\": \"Female\", \"Age\": 35,\"Job\":\"Business Developer\", \"Education Level\":\"Master\"}\n",
        "CV5 = {\"Name\": \"Anthony\", \"Gender\": \"Male\", \"Age\": 34,\"Job\":\"Bus Driver\", \"Education Level\":\"Highschool\"}\n",
        "print(CV1)\n",
        "print(CV2)\n",
        "print(CV3)\n",
        "print(CV4)\n",
        "print(CV5)\n",
        "\n",
        "\n",
        "\n"
      ],
      "execution_count": 2,
      "outputs": [
        {
          "output_type": "stream",
          "text": [
            "{'Name': 'James', 'Gender': 'Male', 'Age': 32, 'Job': 'Accountant', 'Education Level': 'University'}\n",
            "{'Name': 'Mary', 'Gender': 'Female', 'Age': 28, 'Job': 'IT Manager', 'Education Level': 'University'}\n",
            "{'Name': 'Michael', 'Gender': 'Male', 'Age': 45, 'Job': 'HR Manager', 'Education Level': 'University'}\n",
            "{'Name': 'Kate', 'Gender': 'Female', 'Age': 35, 'Job': 'Business Developer', 'Education Level': 'Master'}\n",
            "{'Name': 'Anthony', 'Gender': 'Male', 'Age': 34, 'Job': 'Bus Driver', 'Education Level': 'Highschool'}\n"
          ],
          "name": "stdout"
        }
      ]
    },
    {
      "cell_type": "code",
      "metadata": {
        "id": "CwsVMJ5-nhMg"
      },
      "source": [
        ""
      ],
      "execution_count": null,
      "outputs": []
    }
  ]
}