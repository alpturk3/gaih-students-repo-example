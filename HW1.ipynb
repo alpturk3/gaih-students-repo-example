{
  "nbformat": 4,
  "nbformat_minor": 0,
  "metadata": {
    "colab": {
      "name": "HW1",
      "provenance": [],
      "authorship_tag": "ABX9TyMN1wmPAvZsz0tYQwBEi4wz",
      "include_colab_link": true
    },
    "kernelspec": {
      "name": "python3",
      "display_name": "Python 3"
    }
  },
  "cells": [
    {
      "cell_type": "markdown",
      "metadata": {
        "id": "view-in-github",
        "colab_type": "text"
      },
      "source": [
        "<a href=\"https://colab.research.google.com/github/alpturk3/gaih-students-repo-example/blob/main/HW1.ipynb\" target=\"_parent\"><img src=\"https://colab.research.google.com/assets/colab-badge.svg\" alt=\"Open In Colab\"/></a>"
      ]
    },
    {
      "cell_type": "code",
      "metadata": {
        "colab": {
          "base_uri": "https://localhost:8080/"
        },
        "id": "jVr-Y3lhNfZl",
        "outputId": "d4914d12-2df8-4d00-c877-1be22bec8673"
      },
      "source": [
        "odds = list(range(1,11,2))    #list of odd integers\n",
        "#print(odds)\n",
        "evens = list(range(0,10,2))   #list of even integers\n",
        "#print(evens)\n",
        "odds_evens = odds + evens     #merging odds and evens\n",
        "#print(odds_evens)\n",
        "mltply_by2 = [i * 2 for i in odds_evens] # multiply all elements by 2\n",
        "print(mltply_by2)\n",
        "for datatype in mltply_by2: \n",
        "  print (type(datatype))      #printing datatype of each element in the list\n",
        "\n",
        "\n"
      ],
      "execution_count": 3,
      "outputs": [
        {
          "output_type": "stream",
          "text": [
            "[2, 6, 10, 14, 18, 0, 4, 8, 12, 16]\n",
            "<class 'int'>\n",
            "<class 'int'>\n",
            "<class 'int'>\n",
            "<class 'int'>\n",
            "<class 'int'>\n",
            "<class 'int'>\n",
            "<class 'int'>\n",
            "<class 'int'>\n",
            "<class 'int'>\n",
            "<class 'int'>\n"
          ],
          "name": "stdout"
        }
      ]
    }
  ]
}